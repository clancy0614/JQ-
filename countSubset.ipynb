{
 "cells": [
  {
   "cell_type": "markdown",
   "id": "a911f4a2",
   "metadata": {},
   "source": [
    "for a given list of intergers and integer K, find the number of nonempty subsets S such that min(S)+max(S)<= K"
   ]
  },
  {
   "cell_type": "code",
   "execution_count": 24,
   "id": "f8e6ab09",
   "metadata": {},
   "outputs": [],
   "source": [
    "# sort + two pointer: O(n logn)\n",
    "\n",
    "def f(aList, K):\n",
    "    nums = 0\n",
    "    aList.sort()\n",
    "    for i in range(len(aList)):\n",
    "        for j in range(i,len(aList)):\n",
    "            if aList[i] + aList[j] <= K:\n",
    "                if j <= i + 1:\n",
    "                    nums += 1\n",
    "                if j >= i + 2:\n",
    "                    nums += 2**(j-i-1)\n",
    "    return nums\n",
    "\n"
   ]
  },
  {
   "cell_type": "markdown",
   "id": "4ef6f89a",
   "metadata": {},
   "source": [
    "list[i], ... , list[j]\n",
    "\n",
    "list[i] + list[j] <= K\n",
    "\n",
    "there're j - i - 1 numbers between, and any subset of these numbers will do. So there 2^(j-i-1) combinations."
   ]
  },
  {
   "cell_type": "code",
   "execution_count": 25,
   "id": "ed9eddb0",
   "metadata": {},
   "outputs": [
    {
     "data": {
      "text/plain": [
       "13"
      ]
     },
     "execution_count": 25,
     "metadata": {},
     "output_type": "execute_result"
    }
   ],
   "source": [
    "aList = [8,9,10,11]\n",
    "f(aList,20)"
   ]
  },
  {
   "cell_type": "code",
   "execution_count": null,
   "id": "91b63b6a",
   "metadata": {},
   "outputs": [],
   "source": []
  }
 ],
 "metadata": {
  "kernelspec": {
   "display_name": "Python 3",
   "language": "python",
   "name": "python3"
  },
  "language_info": {
   "codemirror_mode": {
    "name": "ipython",
    "version": 3
   },
   "file_extension": ".py",
   "mimetype": "text/x-python",
   "name": "python",
   "nbconvert_exporter": "python",
   "pygments_lexer": "ipython3",
   "version": "3.8.8"
  }
 },
 "nbformat": 4,
 "nbformat_minor": 5
}
